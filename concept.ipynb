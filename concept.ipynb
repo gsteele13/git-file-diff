{
 "cells": [
  {
   "cell_type": "code",
   "execution_count": 177,
   "metadata": {
    "ExecuteTime": {
     "end_time": "2020-04-19T19:13:04.172329Z",
     "start_time": "2020-04-19T19:13:04.168723Z"
    }
   },
   "outputs": [],
   "source": [
    "import os\n",
    "import subprocess\n",
    "import glob\n",
    "import re\n",
    "import ipywidgets as widgets"
   ]
  },
  {
   "cell_type": "code",
   "execution_count": 178,
   "metadata": {
    "ExecuteTime": {
     "end_time": "2020-04-19T19:13:04.598232Z",
     "start_time": "2020-04-19T19:13:04.568143Z"
    }
   },
   "outputs": [],
   "source": [
    "folder = \"/Users/gsteele/Documents/GitHub/git-file-diff/\"\n",
    "os.chdir(folder)\n",
    "file = 'README.md'\n",
    "cmd = 'git log --follow --'.split(\" \")\n",
    "cmd.append(file)\n",
    "#print(cmd)\n",
    "log = subprocess.run(cmd,stdout=subprocess.PIPE).stdout.decode('utf-8')\n",
    "history = {}\n",
    "commit = []\n",
    "for l in log.splitlines():\n",
    "    if l.startswith(\"commit\"):\n",
    "        commit = l.split(\" \")[1]\n",
    "        history[commit] = l + \"\\n\"\n",
    "    else:\n",
    "        history[commit] += l + \"\\n\"\n",
    "commits = list(history.keys())"
   ]
  },
  {
   "cell_type": "code",
   "execution_count": 179,
   "metadata": {
    "ExecuteTime": {
     "end_time": "2020-04-19T19:13:05.413096Z",
     "start_time": "2020-04-19T19:13:05.408040Z"
    }
   },
   "outputs": [
    {
     "data": {
      "text/plain": [
       "['50d8a81bb5cdb8f3956e608812d2bf4a3079e285',\n",
       " '1a0b01c1075e24be45505015e5a6e9460f4d18e4',\n",
       " '5b144b41a97bdd8b581ed940a8571611f1d8cbf2',\n",
       " 'b80cdd14b2431533a5125067d0b039d92138cc56']"
      ]
     },
     "execution_count": 179,
     "metadata": {},
     "output_type": "execute_result"
    }
   ],
   "source": [
    "commits"
   ]
  },
  {
   "cell_type": "code",
   "execution_count": 181,
   "metadata": {
    "ExecuteTime": {
     "end_time": "2020-04-19T19:13:50.759037Z",
     "start_time": "2020-04-19T19:13:50.689272Z"
    },
    "scrolled": false
   },
   "outputs": [
    {
     "data": {
      "application/vnd.jupyter.widget-view+json": {
       "model_id": "6c1652e27ef14dafaad04ca1c1c9adbf",
       "version_major": 2,
       "version_minor": 0
      },
      "text/plain": [
       "VBox(children=(IntSlider(value=0, max=2), HTML(value=''), Output()))"
      ]
     },
     "metadata": {},
     "output_type": "display_data"
    }
   ],
   "source": [
    "n = widgets.IntSlider(min=0, max=len(commits)-2)\n",
    "output = widgets.Output()\n",
    "message = widgets.HTML()\n",
    "\n",
    "def print_diff(n):\n",
    "    commit1 = commits[n]\n",
    "    commit2 = commits[n+1]\n",
    "    cmd = f'git diff --color {commit2} {commit1} --'.split(\" \")\n",
    "    cmd.append(file)\n",
    "    diff = subprocess.run(cmd,stdout=subprocess.PIPE).stdout.decode('utf-8')\n",
    "    diff = \"\\n\".join(diff.splitlines()[4:])\n",
    "    print(diff)\n",
    "\n",
    "def update(w):\n",
    "    output.clear_output()\n",
    "    with output:\n",
    "        print_diff(n.value)\n",
    "    message.value = \"<pre>\\n\" + history[commits[n.value]] + \"\\n</pre>\"\n",
    "\n",
    "n.observe(update)\n",
    "update_output([])\n",
    "\n",
    "display(widgets.VBox((n,message,output)))"
   ]
  },
  {
   "cell_type": "code",
   "execution_count": null,
   "metadata": {},
   "outputs": [],
   "source": []
  }
 ],
 "metadata": {
  "kernelspec": {
   "display_name": "Python 3",
   "language": "python",
   "name": "python3"
  },
  "language_info": {
   "codemirror_mode": {
    "name": "ipython",
    "version": 3
   },
   "file_extension": ".py",
   "mimetype": "text/x-python",
   "name": "python",
   "nbconvert_exporter": "python",
   "pygments_lexer": "ipython3",
   "version": "3.7.5"
  },
  "toc": {
   "base_numbering": 1,
   "nav_menu": {},
   "number_sections": false,
   "sideBar": true,
   "skip_h1_title": false,
   "title_cell": "Table of Contents",
   "title_sidebar": "Contents",
   "toc_cell": false,
   "toc_position": {},
   "toc_section_display": true,
   "toc_window_display": false
  }
 },
 "nbformat": 4,
 "nbformat_minor": 2
}
